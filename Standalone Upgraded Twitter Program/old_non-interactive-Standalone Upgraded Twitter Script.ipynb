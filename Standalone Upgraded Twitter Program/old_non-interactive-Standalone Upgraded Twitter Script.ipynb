{
 "cells": [
  {
   "cell_type": "code",
   "execution_count": 2,
   "metadata": {
    "collapsed": true
   },
   "outputs": [],
   "source": [
    ""
   ]
  },
  {
   "cell_type": "code",
   "execution_count": 2,
   "metadata": {},
   "outputs": [],
   "source": [
    "import tweepy\n",
    "import time"
   ]
  },
  {
   "cell_type": "code",
   "execution_count": 3,
   "metadata": {},
   "outputs": [],
   "source": [
    "import smtplib"
   ]
  },
  {
   "cell_type": "code",
   "execution_count": 4,
   "metadata": {},
   "outputs": [
    {
     "name": "stdout",
     "output_type": "stream",
     "text": [
      "C:\\Users\\PC\\Documents\\GitHub\\Moe_Antar\n"
     ]
    }
   ],
   "source": [
    "import os\n",
    "print(os.getcwd())"
   ]
  },
  {
   "cell_type": "code",
   "execution_count": 5,
   "metadata": {},
   "outputs": [],
   "source": [
    "os.chdir(\"C:\\\\Users\\\\PC\\\\Documents\\\\GitHub\\\\Moe_Antar\\\\Twitter Analysis with LDA\")"
   ]
  },
  {
   "cell_type": "code",
   "execution_count": 6,
   "metadata": {
    "collapsed": true
   },
   "outputs": [],
   "source": [
    "from tweepy import OAuthHandler"
   ]
  },
  {
   "cell_type": "code",
   "execution_count": 7,
   "metadata": {
    "collapsed": true
   },
   "outputs": [],
   "source": [
    "consumer_key = 'lvxLcrv96o2LLBUjd805anFEe'\n",
    "consumer_secret = 'UUftHUPiI0inirhZhaDln1NchRzMz4qhVeHwWYf3HhcEdGBDhK'\n",
    "access_token = '826992578075648002-AbfhDdp9hVKZgQV4dnJd6obe3h9do9R'\n",
    "access_secret = 'myNE88Yf6MIwcvEdoqNXH67WgqvfjaCaCtVj2IbUIouYC'\n",
    "auth = OAuthHandler(consumer_key, consumer_secret)\n",
    "auth.set_access_token(access_token, access_secret)"
   ]
  },
  {
   "cell_type": "code",
   "execution_count": 8,
   "metadata": {},
   "outputs": [],
   "source": [
    "# SET THE EMAIL ACCOUNT THAT WILL SEND THE NOTIFICATION HERE"
   ]
  },
  {
   "cell_type": "code",
   "execution_count": 9,
   "metadata": {},
   "outputs": [
    {
     "name": "stdout",
     "output_type": "stream",
     "text": [
      "Login Attempt Complete. No Errors So Far\n"
     ]
    }
   ],
   "source": [
    "#EMail script adapted from http://stackabuse.com/how-to-send-emails-with-gmail-using-python/\n",
    "import smtplib\n",
    "\n",
    "gmail_user = ''  \n",
    "gmail_password = ''\n",
    "\n",
    "try:  \n",
    "    server = smtplib.SMTP_SSL('smtp.gmail.com', 465)\n",
    "    server.ehlo()\n",
    "    server.login(gmail_user, gmail_password)\n",
    "    print('Login Attempt Complete. No Errors So Far')\n",
    "except:  \n",
    "    print('Failed to Log in to Email Service...')"
   ]
  },
  {
   "cell_type": "code",
   "execution_count": 10,
   "metadata": {},
   "outputs": [],
   "source": [
    "#EMail script adapted from http://stackabuse.com/how-to-send-emails-with-gmail-using-python/\n",
    "# function that will send whatever you want to an email address you specify\n",
    "def send_email(recipient_list=['moe.antar@hotmail.com'],message=\"Hello\",email_subject='Listener Notification'):\n",
    "    import smtplib\n",
    "\n",
    "    gmail_user = 'moe.python.app@gmail.com'  \n",
    "    gmail_password = 'testing_python_app'\n",
    "    \n",
    "    sent_from = gmail_user  \n",
    "    to = recipient_list \n",
    "    subject = email_subject \n",
    "    body = message\n",
    "    \n",
    "    email_text = \"\"\"\\  \n",
    "    From: %s  \n",
    "    To: %s  \n",
    "    Subject: %s\n",
    "\n",
    "    %s\n",
    "    \"\"\" % (sent_from, \", \".join(to), subject, body)\n",
    "\n",
    "    try:  \n",
    "        server = smtplib.SMTP_SSL('smtp.gmail.com', 465)\n",
    "        server.ehlo()\n",
    "        server.login(gmail_user, gmail_password)\n",
    "        server.sendmail(sent_from, to, email_text)\n",
    "        server.close()\n",
    "\n",
    "        print('Email sent!')\n",
    "    except:  \n",
    "        print('Failed to send Email')"
   ]
  },
  {
   "cell_type": "code",
   "execution_count": 11,
   "metadata": {},
   "outputs": [
    {
     "name": "stdout",
     "output_type": "stream",
     "text": [
      "Email sent!\n"
     ]
    }
   ],
   "source": [
    "# Test the script's ability to send notifications\n",
    "send_email(recipient_list=['moe.antar@hotmail.com'],\n",
    "           message=\"Twitter Listener Has Crashed due to Error : Internet Connection Failure /n Tweets Collected So far: 496\",\n",
    "           email_subject=\"Moe's Listener Notification: Twitter Listener Has Crashed  \" )"
   ]
  },
  {
   "cell_type": "code",
   "execution_count": 12,
   "metadata": {
    "collapsed": true
   },
   "outputs": [],
   "source": [
    "# Initializing a listener class that streams from  Twitter\n",
    "class StdOutListener(tweepy.StreamListener):\n",
    "    \n",
    "    #The init function of a class allows us to have variables that  are set to specific values when an instance of the class is intiialized\n",
    "    # We can then change these attributes from outside the class by calling CLASSNAME.ATTRIBUTENAME = something\n",
    "    def __init__(self, api=None):\n",
    "        super(StdOutListener, self).__init__()\n",
    "        # Initialize the customization attributes that we want to be able to change from the outside \n",
    "        self.num_tweets = 0\n",
    "        self.tweet_limit = 100\n",
    "        self.file_label = \"streamed_tweets\"\n",
    "        self.recipients = 'moe.antar@hotmail.com'\n",
    "        self.notification_interval = 1000\n",
    "        self.allow_email = True\n",
    "        self.allow_progress_email = True\n",
    "        self.progress_email_interval = 100000\n",
    "        \n",
    "    def set_tweet_limit(self,tweet_quantity):\n",
    "        self.tweet_limit = tweet_quantity\n",
    "        \n",
    "    def set_file_label(self,file_label):\n",
    "        self.file_label = file_label\n",
    "        \n",
    "    def set_email_permission(self,allow_email):\n",
    "        self.allow_email = True\n",
    "        \n",
    "    def set_email_recipients(self,email_recipients):\n",
    "        self.recipients = email_recipients\n",
    "        \n",
    "    def set_console_notification_interval(self,console_notification_interval):\n",
    "        self.notification_interval = console_notification_interval\n",
    "        \n",
    "    def set_progress_email_permission(self,progress_email_permission):\n",
    "        self.allow_progress_email = progress_email_permission\n",
    "        \n",
    "    def set_progress_email_interval(self,progress_email_interval):\n",
    "        self.progress_email_interval = progress_email_interval\n",
    "    \n",
    "    def on_data(self, data):\n",
    "        # Based on the interval chosen by the user, let the user know how many tweets have been collected so far\n",
    "        if self.num_tweets % self.notification_interval == 0:\n",
    "            print(\"(%d) Tweets Collected So far\" % self.num_tweets)\n",
    "            \n",
    "        # If the user has allowed emails and has chosen to recieve progress emails\n",
    "        if self.allow_email == True and self.allow_progress_email == True and self.num_tweets % self.progress_email_interval == 0 and self.num_tweets != 0 :\n",
    "            try:\n",
    "                send_email(recipient_list=self.recipients,message=\"(%d) Tweets Collected So Far\" %self.num_tweets , \n",
    "                           email_subject=\"Listener Progress Notification\")\n",
    "                print(\"Progress Email Sent: (%d) tweets collected \" % self.num_tweets)\n",
    "            except:\n",
    "                print(\"Failed to send progress email\")\n",
    "                \n",
    "            \n",
    "        # Increment the number of tweets collected by 1\n",
    "        self.num_tweets += 1\n",
    "        \n",
    "        # This is the main script that collects the tweets\n",
    "        # It will terminate when it hits the tweets limit\n",
    "        if self.num_tweets < self.tweet_limit:\n",
    "            try:\n",
    "                with open('%s.json' %self.file_label, 'a') as f:\n",
    "                    f.write(data)\n",
    "                    return True\n",
    "            except KeyboardInterrupt:\n",
    "                print(\"Keyboard Interrupt: Ending Stream\")\n",
    "            except BaseException as e:\n",
    "                print(str(e))\n",
    "            return True\n",
    "        else:\n",
    "            print(\"Tweet Limit Reached: (%d) .... Closing Stream \" % self.num_tweets)\n",
    "            return False\n",
    "        \n",
    "    def on_error(self, status):\n",
    "        print(status)"
   ]
  },
  {
   "cell_type": "code",
   "execution_count": 13,
   "metadata": {},
   "outputs": [],
   "source": [
    ""
   ]
  },
  {
   "cell_type": "code",
   "execution_count": 13,
   "metadata": {},
   "outputs": [],
   "source": [
    ""
   ]
  },
  {
   "cell_type": "code",
   "execution_count": 13,
   "metadata": {
    "collapsed": true
   },
   "outputs": [],
   "source": [
    "# Set up function that will initialize this class, and add the constraints we want , \n",
    "#as well as filter the feed for the subjects we're interested int\n",
    "\n",
    "def collect_tweets_from_stream(subjects: object,\n",
    "                               max_tweets: object, \n",
    "                               file_label: object = \"streamed_tweets\",\n",
    "                               auth: object = auth,\n",
    "                               email_recipients: object = ['moe.antar@hotmail.com'] , \n",
    "                               console_notification_interval: object = 10000 , \n",
    "                               allow_email: object = True,\n",
    "                               progress_email_permission:object = True,\n",
    "                               progress_email_interval: object = 500000\n",
    "                               ) -> object:\n",
    "    \n",
    "    my_listener = StdOutListener()\n",
    "    my_listener.set_tweet_limit(max_tweets)\n",
    "    my_listener.set_file_label(file_label)\n",
    "    my_listener.set_email_recipients(email_recipients)\n",
    "    my_listener.set_console_notification_interval(console_notification_interval)\n",
    "    my_listener.set_email_permission(allow_email)\n",
    "    my_listener.set_progress_email_permission(progress_email_permission)\n",
    "    my_listener.set_progress_email_interval(progress_email_interval)\n",
    "    \n",
    "    stream = tweepy.Stream(auth, my_listener)\n",
    "    \n",
    "    print(\"Beginning Stream\")\n",
    "    print(\"Will collect until %d tweets are reached\" %max_tweets )\n",
    "    print(\"Output file will be called %s .json \" % file_label)\n",
    "    if allow_email == True :\n",
    "        print(\"Email Notifications Are Enabled\")\n",
    "        print(\"Progress Emails Will Be Sent To : %s\" %email_recipients  )\n",
    "\n",
    "    \n",
    "    \n",
    "    try:\n",
    "        stream.filter(track=subjects)\n",
    "    except KeyboardInterrupt as e:\n",
    "        print(\"Keyboard Interrupt: Stopping Stream\")\n",
    "    except:\n",
    "        print(\"Listening function: Termination Caused by Unknown Error\")"
   ]
  },
  {
   "cell_type": "code",
   "execution_count": 21,
   "metadata": {
    "collapsed": true
   },
   "outputs": [],
   "source": [
    "#Competitor listener\n",
    "##You need to set the following inputs (examples shown):\n",
    "\n",
    "### What to search for\n",
    "#### subjects = [\"word1\",\"word\"]\n",
    "\n",
    "### After How many tweets to stop listening\n",
    "#### max_tweets = 1000\n",
    "\n",
    "### What to name the output JSON file\n",
    "#### file_label = \"bestbuy tweets\"\n",
    "\n",
    "### What authentication tokens to use (The Auth variable should be declared earlier in the script)\n",
    "#### auth = auth\n",
    "\n",
    "### Whether to allow email notification\n",
    "#### allow_email = True\n",
    "\n",
    "### If using email notification , who to send the notifications to (if not using it, enter some placeholder email like [\"nothing@nothing.com\"] and make sure to set allow_email to false)\n",
    "#### email_recipients = [\"thisemail@whatever.com\",\"thatemail@whatever.com\"]\n",
    "\n",
    "### How often to send a notification to the console and (optionally) to email that says how many tweets have been collected so far\n",
    "#### console notification interval = 10000  \n",
    "\n",
    "### Should It send progress emails every n tweets to let you know it has collected this much tweets?\n",
    "#### progress_email_permission = True\n",
    "\n",
    "### How often to send progress emails?\n",
    "#### progress_email_interval = 100,000"
   ]
  },
  {
   "cell_type": "code",
   "execution_count": 22,
   "metadata": {
    "collapsed": true
   },
   "outputs": [
    {
     "name": "stdout",
     "output_type": "stream",
     "text": [
      "Beginning Stream\n Will collected until 100 tweets are reached\nOutput file will be called test100tweets .json \nEmail Notifications Are Enabled\nProgress Emails Will Be Sent To : ['moe.antar@hotmail.com']\n"
     ]
    },
    {
     "name": "stdout",
     "output_type": "stream",
     "text": [
      "(0) Tweets Collected So far\n"
     ]
    },
    {
     "name": "stdout",
     "output_type": "stream",
     "text": [
      "(10) Tweets Collected So far\n"
     ]
    },
    {
     "name": "stdout",
     "output_type": "stream",
     "text": [
      "(20) Tweets Collected So far\n"
     ]
    },
    {
     "name": "stdout",
     "output_type": "stream",
     "text": [
      "(30) Tweets Collected So far\n"
     ]
    },
    {
     "name": "stdout",
     "output_type": "stream",
     "text": [
      "(40) Tweets Collected So far\n"
     ]
    },
    {
     "name": "stdout",
     "output_type": "stream",
     "text": [
      "(50) Tweets Collected So far\n"
     ]
    },
    {
     "name": "stdout",
     "output_type": "stream",
     "text": [
      "Email sent!\nProgress Email Sent: (50) tweets collected \n"
     ]
    },
    {
     "name": "stdout",
     "output_type": "stream",
     "text": [
      "(60) Tweets Collected So far\n"
     ]
    },
    {
     "name": "stdout",
     "output_type": "stream",
     "text": [
      "(70) Tweets Collected So far\n"
     ]
    },
    {
     "name": "stdout",
     "output_type": "stream",
     "text": [
      "(80) Tweets Collected So far\n"
     ]
    },
    {
     "name": "stdout",
     "output_type": "stream",
     "text": [
      "(90) Tweets Collected So far\n"
     ]
    },
    {
     "name": "stdout",
     "output_type": "stream",
     "text": [
      "Tweet Limit Reached: (100) .... Closing Stream \n"
     ]
    }
   ],
   "source": [
    "# collect_tweets_from_stream(\n",
    "# subjects=['@amazon','@Walmart','@WalmartCanada',\"@VisionsDeals\",\"@visionsburnaby\",'@BestBuyCanHelp','@BBYCanadaDeals','@WalmartTech',\n",
    "# '@samsung','@SamsungMobile','@SamsungMobileUS','@SamsungTV','@SamsungUS','@Sony','@SonyElectronics','@PlayStation','@Xbox','@XboxCanada','@NintendoSwitchC','@NintendoAmerica','@Apple',\n",
    "# '@AppleSupport','@tim_cook','samsung','apple',\n",
    "# 'nintendo','horizon zero dawn','ubisoft'],\n",
    "# max_tweets=100,\n",
    "# file_label=\"test100tweets\",\n",
    "# auth=auth,\n",
    "# allow_email = True,\n",
    "# email_recipients= [\"moe.antar@hotmail.com\"],\n",
    "# console_notification_interval= 10,\n",
    "# progress_email_permission = True,\n",
    "# progress_email_interval= 50\n",
    "# )"
   ]
  },
  {
   "cell_type": "code",
   "execution_count": null,
   "metadata": {},
   "outputs": [],
   "source": [
    ""
   ]
  },
  {
   "cell_type": "code",
   "execution_count": 14,
   "metadata": {},
   "outputs": [],
   "source": [
    "def main_function(\n",
    "subjects=None,\n",
    "max_tweets=100,\n",
    "file_label=\"test100tweets\",\n",
    "auth=auth,\n",
    "allow_email = True,\n",
    "email_recipients= [\"moe.antar@hotmail.com\"],\n",
    "console_notification_interval= 10,\n",
    "progress_email_permission = True,\n",
    "progress_email_interval= 50     \n",
    "            \n",
    "):\n",
    "    if subjects is None:\n",
    "        subjects = ['@amazon', '@Walmart', '@WalmartCanada', \"@VisionsDeals\", \"@visionsburnaby\", '@BestBuyCanHelp',\n",
    "                    '@BBYCanadaDeals', '@WalmartTech',\n",
    "                    '@samsung', '@SamsungMobile', '@SamsungMobileUS', '@SamsungTV', '@SamsungUS', '@Sony',\n",
    "                    '@SonyElectronics', '@PlayStation', '@Xbox', '@XboxCanada', '@NintendoSwitchC', '@NintendoAmerica',\n",
    "                    '@Apple',\n",
    "                    '@AppleSupport', '@tim_cook', 'samsung', 'apple',\n",
    "                    'nintendo', 'horizon zero dawn', 'ubisoft']\n",
    "    attempt_count = 0\n",
    "    while attempt_count < 3:\n",
    "        print(\"Main Function Attempting To Start\")\n",
    "        try:\n",
    "            attempt_count = attempt_count + 1 \n",
    "            print(\"Attempt # %d of 2\" %attempt_count)\n",
    "            collect_tweets_from_stream(\n",
    "            subjects=subjects,\n",
    "            max_tweets=max_tweets,\n",
    "            file_label=file_label,\n",
    "            allow_email = allow_email,\n",
    "            auth=auth,\n",
    "            email_recipients=email_recipients,\n",
    "            console_notification_interval= console_notification_interval,\n",
    "            progress_email_permission = progress_email_permission,\n",
    "            progress_email_interval= progress_email_interval\n",
    "            )\n",
    "            return \n",
    "            \n",
    "        except KeyboardInterrupt as e:\n",
    "            print(\"Keyboard interrupt.. Closing Stream\")\n",
    "            return\n",
    "        except: \n",
    "            print(\"Stream Interrupt Due to Unkown Cause: Will Attempt to Restart After 30 Seconds\")\n",
    "            time.sleep(30)\n",
    "            attempt_count = attempt_count + 1"
   ]
  },
  {
   "cell_type": "code",
   "execution_count": 15,
   "metadata": {},
   "outputs": [
    {
     "name": "stdout",
     "output_type": "stream",
     "text": [
      "Main Function Attempting To Start\nAttempt # 1 of 2\nBeginning Stream\nWill collect until 100 tweets are reached\nOutput file will be called test100tweets .json \nEmail Notifications Are Enabled\nProgress Emails Will Be Sent To : ['moe.antar@hotmail.com']\n"
     ]
    },
    {
     "name": "stdout",
     "output_type": "stream",
     "text": [
      "(0) Tweets Collected So far\n"
     ]
    },
    {
     "name": "stdout",
     "output_type": "stream",
     "text": [
      "(10) Tweets Collected So far\n"
     ]
    },
    {
     "name": "stdout",
     "output_type": "stream",
     "text": [
      "(20) Tweets Collected So far\n"
     ]
    },
    {
     "name": "stdout",
     "output_type": "stream",
     "text": [
      "(30) Tweets Collected So far\n"
     ]
    },
    {
     "name": "stdout",
     "output_type": "stream",
     "text": [
      "(40) Tweets Collected So far\n"
     ]
    },
    {
     "name": "stdout",
     "output_type": "stream",
     "text": [
      "(50) Tweets Collected So far\n"
     ]
    },
    {
     "name": "stdout",
     "output_type": "stream",
     "text": [
      "Email sent!\nProgress Email Sent: (50) tweets collected \n"
     ]
    },
    {
     "name": "stdout",
     "output_type": "stream",
     "text": [
      "(60) Tweets Collected So far\n"
     ]
    },
    {
     "name": "stdout",
     "output_type": "stream",
     "text": [
      "(70) Tweets Collected So far\n"
     ]
    },
    {
     "name": "stdout",
     "output_type": "stream",
     "text": [
      "(80) Tweets Collected So far\n"
     ]
    },
    {
     "name": "stdout",
     "output_type": "stream",
     "text": [
      "(90) Tweets Collected So far\n"
     ]
    },
    {
     "name": "stdout",
     "output_type": "stream",
     "text": [
      "Tweet Limit Reached: (100) .... Closing Stream \n"
     ]
    }
   ],
   "source": [
    "main_function()"
   ]
  },
  {
   "cell_type": "code",
   "execution_count": null,
   "metadata": {},
   "outputs": [],
   "source": [
    ""
   ]
  }
 ],
 "metadata": {
  "anaconda-cloud": {},
  "kernelspec": {
   "display_name": "Python [conda root]",
   "language": "python",
   "name": "conda-root-py"
  },
  "language_info": {
   "codemirror_mode": {
    "name": "ipython",
    "version": 3.0
   },
   "file_extension": ".py",
   "mimetype": "text/x-python",
   "name": "python",
   "nbconvert_exporter": "python",
   "pygments_lexer": "ipython3",
   "version": "3.5.2"
  }
 },
 "nbformat": 4,
 "nbformat_minor": 0
}