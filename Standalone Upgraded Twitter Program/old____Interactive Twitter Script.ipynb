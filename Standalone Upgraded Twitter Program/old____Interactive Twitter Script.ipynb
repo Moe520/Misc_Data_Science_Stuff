{
 "cells": [
  {
   "cell_type": "code",
   "execution_count": 22,
   "metadata": {
    "collapsed": true
   },
   "outputs": [
    {
     "name": "stdout",
     "output_type": "stream",
     "text": [
      "########################################### \nWelcome To Moe's Twitter Listener\n########################################## \n"
     ]
    }
   ],
   "source": [
    "print(\"########################################### \")\n",
    "print(\"Welcome To Moe's Twitter Listener\")\n",
    "print(\"########################################## \")"
   ]
  },
  {
   "cell_type": "code",
   "execution_count": 23,
   "metadata": {},
   "outputs": [],
   "source": [
    "import os\n",
    "os.chdir('C:\\\\Users\\\\PC\\\\Documents\\\\GitHub\\\\Moe_Antar\\\\Standalone Upgraded Twitter Program ')"
   ]
  },
  {
   "cell_type": "code",
   "execution_count": 24,
   "metadata": {},
   "outputs": [
    {
     "name": "stdout",
     "output_type": "stream",
     "text": [
      " \nAttempting to Load Dependencies \n"
     ]
    }
   ],
   "source": [
    "print(\" \")\n",
    "print(\"Attempting to Load Dependencies \")"
   ]
  },
  {
   "cell_type": "code",
   "execution_count": 25,
   "metadata": {},
   "outputs": [],
   "source": [
    "import sys"
   ]
  },
  {
   "cell_type": "code",
   "execution_count": 26,
   "metadata": {},
   "outputs": [
    {
     "name": "stdout",
     "output_type": "stream",
     "text": [
      "Attempting to load Tweepy \nTweepy Loaded Successfully\n"
     ]
    }
   ],
   "source": [
    "print(\"Attempting to load Tweepy \")\n",
    "try:\n",
    "    import tweepy\n",
    "    print(\"Tweepy Loaded Successfully\")\n",
    "except:\n",
    "    print(\"Failed To Load Tweepy \")\n",
    "    print(\" Exiting\")"
   ]
  },
  {
   "cell_type": "code",
   "execution_count": 27,
   "metadata": {},
   "outputs": [
    {
     "name": "stdout",
     "output_type": "stream",
     "text": [
      "Attempting to Load Time, csv and smtplib libaries \nDependencies Loaded\n"
     ]
    }
   ],
   "source": [
    "print(\"Attempting to Load Time, csv and smtplib libaries \")\n",
    "try:\n",
    "    import time\n",
    "    import smtplib\n",
    "    import os\n",
    "    import csv\n",
    "    print(\"Dependencies Loaded\")\n",
    "except:\n",
    "     print(\"Load Error: Please ensure time,os,csv, and smtplib libraries are installed \")"
   ]
  },
  {
   "cell_type": "code",
   "execution_count": 28,
   "metadata": {},
   "outputs": [
    {
     "name": "stdout",
     "output_type": "stream",
     "text": [
      "Current Working Directory is: C:\\Users\\PC\\Documents\\GitHub\\Moe_Antar\\Standalone Upgraded Twitter Program \n \n"
     ]
    }
   ],
   "source": [
    "print(\"Current Working Directory is: %s \" % os.getcwd() ) \n",
    "\n",
    "print(\" \")"
   ]
  },
  {
   "cell_type": "code",
   "execution_count": 43,
   "metadata": {},
   "outputs": [
    {
     "name": "stdout",
     "output_type": "stream",
     "text": [
      "Retrieving Twitter Credentials from twitter_credentials.csv \nconsumer key: lvxLcrv96o2LLBUjd805anFEe\nconsumer secret: UUftHUPiI0inirhZhaDln1NchRzMz4qhVeHwWYf3HhcEdGBDhK\naccess token: 826992578075648002-AbfhDdp9hVKZgQV4dnJd6obe3h9do9R\naccess secret: myNE88Yf6MIwcvEdoqNXH67WgqvfjaCaCtVj2IbUIouYC\n"
     ]
    }
   ],
   "source": [
    "print(\"Retrieving Twitter Credentials from twitter_credentials.csv \")\n",
    "try:\n",
    "    reader = csv.reader(open(\"twitter_credentials.csv\",\"r\"))\n",
    "    doc = []\n",
    "    for row in reader:\n",
    "        doc.append(row[1:]) # skip first column\n",
    "    final_list = []\n",
    "    for row in doc:\n",
    "        for w in row:\n",
    "            if (len(w) > 0):\n",
    "                final_list.append(w.rstrip(' '))\n",
    "    print(\"consumer key: %s\" % final_list[0])\n",
    "    print(\"consumer secret: %s\" % final_list[1])\n",
    "    print(\"access token: %s\" % final_list[2])\n",
    "    print(\"access secret: %s\" % final_list[3])\n",
    "    \n",
    "\n",
    "except:\n",
    "    print(\"Unable To Retrieve Twitter Credentials\")"
   ]
  },
  {
   "cell_type": "code",
   "execution_count": 45,
   "metadata": {},
   "outputs": [],
   "source": [
    ""
   ]
  },
  {
   "cell_type": "code",
   "execution_count": 45,
   "metadata": {},
   "outputs": [
    {
     "name": "stdout",
     "output_type": "stream",
     "text": [
      "Testing Twitter Connection \n"
     ]
    }
   ],
   "source": [
    "print(\"Testing Twitter Connection \")"
   ]
  },
  {
   "cell_type": "code",
   "execution_count": 46,
   "metadata": {},
   "outputs": [],
   "source": [
    "consumer_key = final_list[0]\n",
    "consumer_secret = final_list[1]\n",
    "access_token = final_list[2]\n",
    "access_secret = final_list[3]\n",
    "auth = tweepy.OAuthHandler(consumer_key, consumer_secret)\n",
    "auth.set_access_token(access_token, access_secret)"
   ]
  },
  {
   "cell_type": "code",
   "execution_count": 51,
   "metadata": {},
   "outputs": [
    {
     "name": "stdout",
     "output_type": "stream",
     "text": [
      "Connection Successful : Twitter Account = Moe\n"
     ]
    }
   ],
   "source": [
    "try:\n",
    "    user = tweepy.API(auth).me()\n",
    "    print('Connection Successful : Twitter Account = ' + user.name)\n",
    "except:\n",
    "    print(\"Unable to establish connection. Make sure your credentials Are Correct (Try Re-Generating your Tokens\")"
   ]
  },
  {
   "cell_type": "code",
   "execution_count": 52,
   "metadata": {},
   "outputs": [
    {
     "ename": "StdinNotImplementedError",
     "evalue": "raw_input was called, but this frontend does not support input requests.",
     "traceback": [
      "\u001b[0;31m---------------------------------------------------------------------------\u001b[0m",
      "\u001b[0;31mStdinNotImplementedError\u001b[0m                  Traceback (most recent call last)",
      "\u001b[0;32m<ipython-input-52-084d83e917ec>\u001b[0m in \u001b[0;36m<module>\u001b[0;34m()\u001b[0m\n\u001b[1;32m      2\u001b[0m \u001b[1;33m\u001b[0m\u001b[0m\n\u001b[1;32m      3\u001b[0m \u001b[1;32mwhile\u001b[0m \u001b[0mallow_email_use\u001b[0m \u001b[1;33m==\u001b[0m \u001b[1;32mNone\u001b[0m\u001b[1;33m:\u001b[0m\u001b[1;33m\u001b[0m\u001b[0m\n\u001b[0;32m----> 4\u001b[0;31m     \u001b[0muser_answer\u001b[0m \u001b[1;33m=\u001b[0m \u001b[0minput\u001b[0m\u001b[1;33m(\u001b[0m\u001b[1;34m\"Allow Email Notifications? (enter yes or no.... gmail account required)\"\u001b[0m\u001b[1;33m)\u001b[0m\u001b[1;33m\u001b[0m\u001b[0m\n\u001b[0m\u001b[1;32m      5\u001b[0m \u001b[1;33m\u001b[0m\u001b[0m\n\u001b[1;32m      6\u001b[0m     \u001b[1;32mif\u001b[0m \u001b[0muser_answer\u001b[0m \u001b[1;33m==\u001b[0m \u001b[0myes\u001b[0m \u001b[1;33m:\u001b[0m\u001b[1;33m\u001b[0m\u001b[0m\n",
      "\u001b[0;32mC:\\Program Files\\Anaconda3\\lib\\site-packages\\ipykernel\\kernelbase.py\u001b[0m in \u001b[0;36mraw_input\u001b[0;34m(self, prompt)\u001b[0m\n\u001b[1;32m    683\u001b[0m         \u001b[1;32mif\u001b[0m \u001b[1;32mnot\u001b[0m \u001b[0mself\u001b[0m\u001b[1;33m.\u001b[0m\u001b[0m_allow_stdin\u001b[0m\u001b[1;33m:\u001b[0m\u001b[1;33m\u001b[0m\u001b[0m\n\u001b[1;32m    684\u001b[0m             raise StdinNotImplementedError(\n\u001b[0;32m--> 685\u001b[0;31m                 \u001b[1;34m\"raw_input was called, but this frontend does not support input requests.\"\u001b[0m\u001b[1;33m\u001b[0m\u001b[0m\n\u001b[0m\u001b[1;32m    686\u001b[0m             )\n\u001b[1;32m    687\u001b[0m         return self._input_request(str(prompt),\n",
      "\u001b[0;31mStdinNotImplementedError\u001b[0m: raw_input was called, but this frontend does not support input requests."
     ],
     "output_type": "error"
    }
   ],
   "source": [
    "allow_email_use = None\n",
    "\n",
    "while allow_email_use == None:\n",
    "    user_answer = input(\"Allow Email Notifications? (enter yes or no.... Gmail account required..must have 'allow less secure apps' set to 'on'... Do not use this feature if someone else can see you monitor)\")\n",
    "\n",
    "    if user_answer == yes :\n",
    "        print(\"Initiating Email Setup\")\n",
    "        allow_email_use = True\n",
    "\n",
    "    elif user_answer == no :\n",
    "        print(\"Email Notifications Deactivated\")\n",
    "        allow_email_use = False\n",
    "    else: \n",
    "        print(\"Please Enter yes or no .... or hit ctrl+c to terminate program \")"
   ]
  },
  {
   "cell_type": "code",
   "execution_count": null,
   "metadata": {},
   "outputs": [],
   "source": [
    "allow_email_use  = False"
   ]
  },
  {
   "cell_type": "code",
   "execution_count": null,
   "metadata": {},
   "outputs": [],
   "source": [
    "#EMail script adapted from http://stackabuse.com/how-to-send-emails-with-gmail-using-python/\n",
    "if allow_email_use == True:\n",
    "    import smtplib\n",
    "    gmail_user = input(\"Please Enter gmail account\")  \n",
    "    gmail_password = input(\"Please Enter gmail password\")\n",
    "\n",
    "    try:  \n",
    "        server = smtplib.SMTP_SSL('smtp.gmail.com', 465)\n",
    "        server.ehlo()\n",
    "        server.login(gmail_user, gmail_password)\n",
    "        print('Login Attempt Complete. No Errors So Far')\n",
    "        \n",
    "    except:  \n",
    "        print('Failed to Log in to Email Service...Email Notifications Deactivated')\n",
    "        allow_email_use = False\n",
    "        pass"
   ]
  },
  {
   "cell_type": "code",
   "execution_count": 54,
   "metadata": {},
   "outputs": [],
   "source": [
    "#EMail script adapted from http://stackabuse.com/how-to-send-emails-with-gmail-using-python/\n",
    "# function that will send whatever you want to an email address you specify\n",
    "def send_email(recipient_list=[gmail_user],message=\"Hello\",email_subject='Listener Notification'):\n",
    "    import smtplib\n",
    " \n",
    "    sent_from = gmail_user  \n",
    "    to = recipient_list \n",
    "    subject = email_subject \n",
    "    body = message\n",
    "    \n",
    "    email_text = \"\"\"\\  \n",
    "    From: %s  \n",
    "    To: %s  \n",
    "    Subject: %s\n",
    "\n",
    "    %s\n",
    "    \"\"\" % (sent_from, \", \".join(to), subject, body)\n",
    "\n",
    "    try:  \n",
    "        server = smtplib.SMTP_SSL('smtp.gmail.com', 465)\n",
    "        server.ehlo()\n",
    "        server.login(gmail_user, gmail_password)\n",
    "        server.sendmail(sent_from, to, email_text)\n",
    "        server.close()\n",
    "\n",
    "        print('Email sent!')\n",
    "    except:  \n",
    "        print('Failed to send Email')"
   ]
  },
  {
   "cell_type": "code",
   "execution_count": null,
   "metadata": {},
   "outputs": [],
   "source": [
    "print(\"attempting to send test email\")\n",
    "try:\n",
    "    send_email(recipient_list=[gmail_user],message=\"Test Email\",email_subject=\"Test Email\")\n",
    "    print(\"Test Email Successfully Sent\")\n",
    "except:\n",
    "    print(\"Test Email Failed To Send... Deactivating Email Notifications\")\n",
    "    allow_email_use = False\n",
    "    pass"
   ]
  },
  {
   "cell_type": "code",
   "execution_count": null,
   "metadata": {},
   "outputs": [],
   "source": [
    "print(\"Initializing Twitter Listener\")"
   ]
  },
  {
   "cell_type": "code",
   "execution_count": null,
   "metadata": {},
   "outputs": [],
   "source": [
    "# Initializing a listener class that streams from  Twitter\n",
    "class StdOutListener(tweepy.StreamListener):\n",
    "    \n",
    "    #The init function of a class allows us to have variables that  are set to specific values when an instance of the class is intiialized\n",
    "    # We can then change these attributes from outside the class by calling CLASSNAME.ATTRIBUTENAME = something\n",
    "    def __init__(self, api=None):\n",
    "        super(StdOutListener, self).__init__()\n",
    "        # Initialize the customization attributes that we want to be able to change from the outside \n",
    "        self.num_tweets = 0\n",
    "        self.tweet_limit = 100\n",
    "        self.file_label = \"streamed_tweets\"\n",
    "        self.recipients = 'moe.antar@hotmail.com'\n",
    "        self.notification_interval = 1000\n",
    "        self.allow_email = True\n",
    "        self.allow_progress_email = True\n",
    "        self.progress_email_interval = 100000\n",
    "        \n",
    "    def set_tweet_limit(self,tweet_quantity):\n",
    "        self.tweet_limit = tweet_quantity\n",
    "        \n",
    "    def set_file_label(self,file_label):\n",
    "        self.file_label = file_label\n",
    "        \n",
    "    def set_email_permission(self,allow_email):\n",
    "        self.allow_email = True\n",
    "        \n",
    "    def set_email_recipients(self,email_recipients):\n",
    "        self.recipients = email_recipients\n",
    "        \n",
    "    def set_console_notification_interval(self,console_notification_interval):\n",
    "        self.notification_interval = console_notification_interval\n",
    "        \n",
    "    def set_progress_email_permission(self,progress_email_permission):\n",
    "        self.allow_progress_email = progress_email_permission\n",
    "        \n",
    "    def set_progress_email_interval(self,progress_email_interval):\n",
    "        self.progress_email_interval = progress_email_interval\n",
    "    \n",
    "    def on_data(self, data):\n",
    "        # Based on the interval chosen by the user, let the user know how many tweets have been collected so far\n",
    "        if self.num_tweets % self.notification_interval == 0:\n",
    "            print(\"(%d) Tweets Collected So far\" % self.num_tweets)\n",
    "            \n",
    "        # If the user has allowed emails and has chosen to recieve progress emails\n",
    "        if self.allow_email == True and self.allow_progress_email == True and self.num_tweets % self.progress_email_interval == 0 and self.num_tweets != 0 :\n",
    "            try:\n",
    "                send_email(recipient_list=self.recipients,message=\"(%d) Tweets Collected So Far\" %self.num_tweets , \n",
    "                           email_subject=\"Listener Progress Notification\")\n",
    "                print(\"Progress Email Sent: (%d) tweets collected \" % self.num_tweets)\n",
    "            except:\n",
    "                print(\"Failed to send progress email\")\n",
    "                \n",
    "            \n",
    "        # Increment the number of tweets collected by 1\n",
    "        self.num_tweets += 1\n",
    "        \n",
    "        # This is the main script that collects the tweets\n",
    "        # It will terminate when it hits the tweets limit\n",
    "        if self.num_tweets < self.tweet_limit:\n",
    "            try:\n",
    "                with open('%s.json' %self.file_label, 'a') as f:\n",
    "                    f.write(data)\n",
    "                    return True\n",
    "            except KeyboardInterrupt:\n",
    "                print(\"Keyboard Interrupt: Ending Stream\")\n",
    "            except BaseException as e:\n",
    "                print(str(e))\n",
    "            return True\n",
    "        else:\n",
    "            print(\"Tweet Limit Reached: (%d) .... Closing Stream \" % self.num_tweets)\n",
    "            return False\n",
    "        \n",
    "    def on_error(self, status):\n",
    "        print(status)"
   ]
  },
  {
   "cell_type": "code",
   "execution_count": null,
   "metadata": {},
   "outputs": [],
   "source": [
    "print(\"Retrieving Keyword List\")"
   ]
  },
  {
   "cell_type": "code",
   "execution_count": null,
   "metadata": {},
   "outputs": [],
   "source": [
    "try:\n",
    "    import csv\n",
    "    reader = csv.reader(open(\"Twitter Listener Spreadsheet - Sheet1.csv\",\"r\"))\n",
    "    doc = []\n",
    "    for row in reader:\n",
    "        doc.append(row[1:]) # skip first column\n",
    "    final_list = []\n",
    "    for row in doc:\n",
    "        for w in row:\n",
    "            if (len(w) > 0):\n",
    "                final_list.append(w.rstrip(' '))\n",
    "    print(final_list)\n",
    "except:\n",
    "    print(\"Unable To Retrieve Keywords\")"
   ]
  },
  {
   "cell_type": "code",
   "execution_count": null,
   "metadata": {},
   "outputs": [],
   "source": [
    "max_tweets = 0 \n",
    "while max_tweets == 0:\n",
    "    max_tweets = int(input(\"How Many Tweets Would You Like To Collect?\"))\n",
    "    if max_tweets * 0 != 0 :\n",
    "        print(\"Please Enter A Valid Number.. or press Ctrl+C to terminate Application\")"
   ]
  },
  {
   "cell_type": "code",
   "execution_count": null,
   "metadata": {},
   "outputs": [],
   "source": [
    "file_label = None\n",
    "\n",
    "while file_label == None:\n",
    "    try:\n",
    "        file_label = input(\"What would you like the output  file to be called? (Do Not Include the file extension. Do not use quotation marks.  Do Not Use Dots. Do Not Use a Number as the first character)\")\n",
    "    except:\n",
    "        print(\"Input Error: Please enter the name as a string without quotation marks\")"
   ]
  },
  {
   "cell_type": "code",
   "execution_count": null,
   "metadata": {},
   "outputs": [],
   "source": [
    "if allow_email_use == True:\n",
    "    try:\n",
    "        recipients = [\"%s\"%input(\"Who should Recieve The Notification Emails? (Enter 'me' as the answer if you want them sent to yourself). Otherwise Enter Recipient's Email\")]\n",
    "    except:\n",
    "        print(\"Unable to determine Recipients from input.. Will use user's  own email instead\")\n",
    "        recipients = ['%s' %gmail_user]"
   ]
  },
  {
   "cell_type": "code",
   "execution_count": null,
   "metadata": {},
   "outputs": [],
   "source": [
    ""
   ]
  },
  {
   "cell_type": "code",
   "execution_count": null,
   "metadata": {},
   "outputs": [],
   "source": [
    "if allow_email_use == True:\n",
    "    try:\n",
    "        email_notification_interval = int( input(\"How Often Should an Email Notification be Sent?\"))\n",
    "    except:\n",
    "        print(\"Unable to determine input.. Will default to a notification every 500,000 tweets\")\n",
    "        email_notification_interval = 500,000\n",
    "        pass"
   ]
  },
  {
   "cell_type": "code",
   "execution_count": null,
   "metadata": {},
   "outputs": [],
   "source": [
    "console_interval = 0\n",
    "\n",
    "while console_interval == 0:\n",
    "    try:\n",
    "        console_interval = int( input(\"How often should a progress message (that says how many tweets have been\"\n",
    "                                      \" collected so far) appear on the console? (e.g if you want it to show progress every 100th tweet enter '100'\"))\n",
    "    except:\n",
    "        print(\"Unable to determine Input: Will Default to update every 100 tweets\")"
   ]
  },
  {
   "cell_type": "code",
   "execution_count": null,
   "metadata": {},
   "outputs": [],
   "source": [
    "print(\"Processing User Inputs........\")"
   ]
  },
  {
   "cell_type": "code",
   "execution_count": null,
   "metadata": {},
   "outputs": [],
   "source": [
    "print(\" \")\n",
    "print(\"Will Collect %d Tweets\" %max_tweets)\n",
    "print(\"Will Update to Console Every %d Tweets \" %console_interval)\n",
    "print(\"Output File Will Be Named: %s .json\" %file_label)\n",
    "if allow_email_use == True:\n",
    "    print(\"Email Notification Enabled\")\n",
    "    print(\"Will Notify Every %d Tweets\" %email_notification_interval )\n",
    "print(\"Opening Stream\")"
   ]
  },
  {
   "cell_type": "code",
   "execution_count": null,
   "metadata": {},
   "outputs": [],
   "source": [
    "# Insert dummy values for email recipients if email notification is disabled\n",
    "if allow_email_use != True:\n",
    "    recipients = [\"nobody\"]"
   ]
  },
  {
   "cell_type": "code",
   "execution_count": null,
   "metadata": {},
   "outputs": [],
   "source": [
    "# Set up function that will initialize this class, and add the constraints we want , \n",
    "#as well as filter the feed for the subjects we're interested int\n",
    "print(\"Building Collection Call Function\")\n",
    "def collect_tweets_from_stream(subjects: object = final_list,\n",
    "                               max_tweets: object = max_tweets, \n",
    "                               file_label: object = file_label,\n",
    "                               auth: object = auth,\n",
    "                               email_recipients: object = recipients , \n",
    "                               console_notification_interval: object = console_interval , \n",
    "                               allow_email: object = allow_email_use,\n",
    "                               progress_email_permission:object = allow_email_use,\n",
    "                               progress_email_interval: object = email_notification_interval\n",
    "                               ) -> object:\n",
    "    \n",
    "    my_listener = StdOutListener()\n",
    "    my_listener.set_tweet_limit(max_tweets)\n",
    "    my_listener.set_file_label(file_label)\n",
    "    my_listener.set_email_recipients(email_recipients)\n",
    "    my_listener.set_console_notification_interval(console_notification_interval)\n",
    "    my_listener.set_email_permission(allow_email)\n",
    "    my_listener.set_progress_email_permission(progress_email_permission)\n",
    "    my_listener.set_progress_email_interval(progress_email_interval)\n",
    "    \n",
    "    stream = tweepy.Stream(auth, my_listener)\n",
    "    \n",
    "    print(\"Beginning Stream\")\n",
    "    print(\"Will collect until %d tweets are reached\" %max_tweets )\n",
    "    print(\"Output file will be called %s .json \" % file_label)\n",
    "    if allow_email == True :\n",
    "        print(\"Email Notifications Are Enabled\")\n",
    "        print(\"Progress Emails Will Be Sent To : %s\" %email_recipients  )\n",
    "\n",
    "    \n",
    "    \n",
    "    try:\n",
    "        stream.filter(track=subjects)\n",
    "    except KeyboardInterrupt as e:\n",
    "        print(\"Keyboard Interrupt: Stopping Stream\")\n",
    "    except:\n",
    "        print(\"Listening function: Termination Caused by Unknown Error\")"
   ]
  },
  {
   "cell_type": "code",
   "execution_count": null,
   "metadata": {},
   "outputs": [],
   "source": [
    "print(\"Building Main Function\")\n",
    "def main_function():\n",
    "    \n",
    "    attempt_count = 0\n",
    "    while attempt_count < 3:\n",
    "        print(\"Main Function Attempting To Start\")\n",
    "        try:\n",
    "            collect_tweets_from_stream()\n",
    "            return \n",
    "            \n",
    "        except KeyboardInterrupt as e:\n",
    "            print(\"Keyboard interrupt.. Closing Stream\")\n",
    "            return\n",
    "        except: \n",
    "            print(\"Stream Interrupt Due to Unknown Cause: Will Attempt to Restart After 30 Seconds\")\n",
    "            time.sleep(30)\n",
    "            attempt_count = attempt_count + 1\n",
    "    if attempt_count == 3:\n",
    "        print(\"Unable to re-establish connection...Terminating\")\n",
    "        return"
   ]
  },
  {
   "cell_type": "code",
   "execution_count": null,
   "metadata": {},
   "outputs": [],
   "source": [
    "main_function()"
   ]
  }
 ],
 "metadata": {
  "anaconda-cloud": {},
  "kernelspec": {
   "display_name": "Python [conda root]",
   "language": "python",
   "name": "conda-root-py"
  },
  "language_info": {
   "codemirror_mode": {
    "name": "ipython",
    "version": 3.0
   },
   "file_extension": ".py",
   "mimetype": "text/x-python",
   "name": "python",
   "nbconvert_exporter": "python",
   "pygments_lexer": "ipython3",
   "version": "3.5.2"
  }
 },
 "nbformat": 4,
 "nbformat_minor": 0
}