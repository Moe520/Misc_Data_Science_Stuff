{
  "cells": [
    {
      "cell_type": "code",
      "source": [
        "import numpy as np\n",
        "import pandas as pd\n",
        "import os\n",
        "import sys\n",
        "import scipy\n",
        "from scipy.linalg import logm\n",
        "import math\n",
        "import time\n",
        "import matplotlib.pyplot as plt\n",
        "from sklearn import datasets\n",
        "import pickle\n",
        "%matplotlib inline"
      ],
      "outputs": [],
      "execution_count": 15,
      "metadata": {
        "collapsed": false,
        "outputHidden": false,
        "inputHidden": false
      }
    },
    {
      "cell_type": "code",
      "source": [
        "os.chdir(\"C:\\\\Users\\\\MoeAn\\\\Documents\\\\GitHub\\\\LinearDiscriminantAnalysis\")"
      ],
      "outputs": [],
      "execution_count": 5,
      "metadata": {
        "collapsed": false,
        "outputHidden": false,
        "inputHidden": false
      }
    },
    {
      "cell_type": "code",
      "source": [
        "iris = datasets.load_iris()\n",
        "data1 = pd.DataFrame(data= np.c_[iris['data'], iris['target']],\n",
        "                     columns= iris['feature_names'] + ['target'])\n",
        "X = data1.drop([\"target\"],axis=1)\n",
        "Y = data1[\"target\"] "
      ],
      "outputs": [],
      "execution_count": 6,
      "metadata": {
        "collapsed": false,
        "outputHidden": false,
        "inputHidden": false
      }
    },
    {
      "cell_type": "code",
      "source": [
        "class qdaClassifier:\n",
        "    import numpy as np\n",
        "    import pandas as pd\n",
        "    import scipy\n",
        "    import math\n",
        "    import time\n",
        "            \n",
        "    def __init__(self,x,y):      \n",
        "        self.X=x\n",
        "        self.Y=y\n",
        "        self.x = self.X.reset_index(drop = True)\n",
        "        self.y = self.Y.reset_index(drop = True)\n",
        "        self.sigmaMatrices = []\n",
        "        self.invertedSigmaMatrices = []\n",
        "        self.muVectors = []\n",
        "        self.muTransposeVectors = []\n",
        "        self.piVector =[]\n",
        "\n",
        "        print(\"Checking for dependencies....\")\n",
        "        try:\n",
        "            import numpy as np\n",
        "            import pandas as pd\n",
        "            import scipy\n",
        "            import math\n",
        "            import time\n",
        "            print(\"Dependencies Loaded\")\n",
        "        \n",
        "        except:\n",
        "            print(\"Missing Dependencies!\")\n",
        "            print(\"All of the following packages must be installed:\")\n",
        "            print(\"pandas as pd ,numpy as np , scipy, math , time\")\n",
        "    \n",
        "    def setX(self,x):\n",
        "        self.X=x\n",
        "        \n",
        "    def setY(self,Y):\n",
        "        self.Y=Y\n",
        "        \n",
        "    def getCovMatrix(self,x):\n",
        "        sigma = x.cov()\n",
        "        return sigma\n",
        "    \n",
        "    def getPiK(self,k,classColumn):\n",
        "        matchingRowsCount = sum(classColumn==k)\n",
        "        return matchingRowsCount/len(classColumn)\n",
        "      \n",
        "    def getVectorMu(self,x,y,k):\n",
        "        x = x.reset_index(drop = True)\n",
        "        y = y.reset_index(drop = True)\n",
        "        \n",
        "        classColumnName = y.name\n",
        "        \n",
        "        fullData = pd.concat([x,y],axis=1)\n",
        "        \n",
        "        vectorOfMeans = []\n",
        "        for column in x :\n",
        "            rowsThatMatchK = fullData.loc[fullData[classColumnName]==k]\n",
        "            ourColumnInRowsThatMatchK = rowsThatMatchK[column]\n",
        "            vectorOfMeans.append(ourColumnInRowsThatMatchK.mean())\n",
        "        return np.transpose(np.asarray(vectorOfMeans))\n",
        "\n",
        "    def getDeltaK(self,row,k,X,Y,sigmaInverse,sigma,mu,muTranspose,pi):\n",
        "        rowTranspose=np.transpose(row)\n",
        "        Delta = -0.5*rowTranspose.dot(sigmaInverse).dot(row)+rowTranspose.dot(sigmaInverse).dot(mu)-0.5*muTranspose.dot(sigmaInverse).dot(mu)-0.5*np.log(np.linalg.det(sigma))+math.log(pi)\n",
        "        return Delta\n",
        "    \n",
        "    \n",
        "    def trainQDA(self):\n",
        "        \n",
        "        x = self.x\n",
        "        y = self.y\n",
        "        print(\"Attempting to load dependencies..\")\n",
        "        try:\n",
        "            import numpy as np\n",
        "            import pandas as pd\n",
        "            import scipy\n",
        "            import math\n",
        "            import time\n",
        "        \n",
        "        except:\n",
        "            print(\"Missing Dependencies!\")\n",
        "            print(\"All of the following packages must be installed:\")\n",
        "            print(\"pandas as pd ,numpy as np , scipy, math , time\")\n",
        "        \n",
        "        print(\"Dependencies Loaded\")\n",
        "        print(\"Initializing Classifier...\")\n",
        "        \n",
        "        \n",
        "        predictions = []\n",
        "        classes = y.unique()\n",
        "        \n",
        "        print(\"Generating Covariance Matrices..\")\n",
        "        self.sigmaMatrices = []\n",
        "        self.invertedSigmaMatrices = []\n",
        "        for currentClass in classes:\n",
        "            classColumnName = y.name\n",
        "            fullData = pd.concat([x,y],axis=1)       \n",
        "            currentClassX = fullData.loc[fullData[classColumnName] == currentClass].drop([classColumnName],axis=1)\n",
        "            thisSigma = self.getCovMatrix(currentClassX)\n",
        "            thisInvertedSigma = np.linalg.pinv(thisSigma)\n",
        "            self.invertedSigmaMatrices.append(thisInvertedSigma)\n",
        "            self.sigmaMatrices.append(thisSigma)\n",
        "            print(thisSigma.shape)\n",
        "            print(\"Sigmas Generated for \"+str(currentClass))        \n",
        "        \n",
        "        print(\"Calculating Class-Specific Mean Vectors..\")\n",
        "        self.muVectors = []\n",
        "        self.muTransposeVectors = []\n",
        "        for currentClass in classes:\n",
        "            thismu = self.getVectorMu(x,y,currentClass)\n",
        "            thisTransposeMu = np.transpose(thismu)\n",
        "            print(\"Mu for class \"+str(currentClass)+\" is \"+str(thismu))\n",
        "            self.muVectors.append(thismu)\n",
        "            self.muTransposeVectors.append(thisTransposeMu)\n",
        "        \n",
        "        print(\"Calculating pi proportions....\")\n",
        "        self.piVector =[]\n",
        "        for currentClass in classes:\n",
        "            thispi = self.getPiK(currentClass,self.Y)\n",
        "            print(\"Pi for class \"+str(currentClass)+\" is \"+str(thispi))\n",
        "            self.piVector.append(thispi)\n",
        "    \n",
        "    \n",
        "    def predictQDA(self):\n",
        "        x=self.x\n",
        "        y=self.y\n",
        "        classes = y.unique()    \n",
        "            \n",
        "        predictions = []\n",
        "        \n",
        "        print(\"Classifying...\")\n",
        "        rowCounter = 0\n",
        "        for row in range(len(x)):\n",
        "            notificationInterval =int(round(len(x)/20)) \n",
        "            if row % notificationInterval == 0:\n",
        "                print(str(row)+\" Out Of \"+str(len(x))+\" Observations Classified\" )\n",
        "            thisx = np.asarray(x.iloc[row])\n",
        "            deltasForThisX = []\n",
        "            deltaCounter = 0\n",
        "            for delta in classes:                \n",
        "                deltasForThisX.append(self.getDeltaK(x.iloc[row],delta,x,y,\n",
        "                                                     self.invertedSigmaMatrices[deltaCounter],\n",
        "                                                     self.sigmaMatrices[deltaCounter],\n",
        "                                                     self.muVectors[deltaCounter],\n",
        "                                                     self.muTransposeVectors[deltaCounter],\n",
        "                                                     self.piVector[deltaCounter]\n",
        "                                                    ))\n",
        "                deltaCounter=deltaCounter+1         \n",
        "            predictions.append(classes[np.argmax(deltasForThisX)])\n",
        "            rowCounter=rowCounter+1\n",
        "            \n",
        "        return predictions\n",
        "    \n",
        "    def getUniqueClasses(self):\n",
        "        uniqclasses = [str(i) for i in self.Y.unique]\n",
        "        return uniqclasses\n"
      ],
      "outputs": [],
      "execution_count": 7,
      "metadata": {
        "collapsed": false,
        "outputHidden": false,
        "inputHidden": false
      }
    },
    {
      "cell_type": "code",
      "source": [
        "testqda = qdaClassifier(X,Y)"
      ],
      "outputs": [
        {
          "output_type": "stream",
          "name": "stdout",
          "text": [
            "Checking for dependencies....\n",
            "Dependencies Loaded\n"
          ]
        }
      ],
      "execution_count": 8,
      "metadata": {
        "collapsed": false,
        "outputHidden": false,
        "inputHidden": false
      }
    },
    {
      "cell_type": "code",
      "source": [
        "testqda.trainQDA()"
      ],
      "outputs": [
        {
          "output_type": "stream",
          "name": "stdout",
          "text": [
            "Attempting to load dependencies..\n",
            "Dependencies Loaded\n",
            "Initializing Classifier...\n",
            "Generating Covariance Matrices..\n",
            "(4, 4)\n",
            "Sigmas Generated for 0.0\n",
            "(4, 4)\n",
            "Sigmas Generated for 1.0\n",
            "(4, 4)\n",
            "Sigmas Generated for 2.0\n",
            "Calculating Class-Specific Mean Vectors..\n",
            "Mu for class 0.0 is [ 5.006  3.418  1.464  0.244]\n",
            "Mu for class 1.0 is [ 5.936  2.77   4.26   1.326]\n",
            "Mu for class 2.0 is [ 6.588  2.974  5.552  2.026]\n",
            "Calculating pi proportions....\n",
            "Pi for class 0.0 is 0.333333333333\n",
            "Pi for class 1.0 is 0.333333333333\n",
            "Pi for class 2.0 is 0.333333333333\n"
          ]
        }
      ],
      "execution_count": 9,
      "metadata": {
        "collapsed": false,
        "outputHidden": false,
        "inputHidden": false
      }
    },
    {
      "cell_type": "code",
      "source": [
        "pred3 =testqda.predictQDA()"
      ],
      "outputs": [
        {
          "output_type": "stream",
          "name": "stdout",
          "text": [
            "Classifying...\n",
            "0 Out Of 150 Observations Classified\n",
            "8 Out Of 150 Observations Classified\n",
            "16 Out Of 150 Observations Classified\n",
            "24 Out Of 150 Observations Classified\n",
            "32 Out Of 150 Observations Classified\n",
            "40 Out Of 150 Observations Classified\n",
            "48 Out Of 150 Observations Classified\n",
            "56 Out Of 150 Observations Classified\n",
            "64 Out Of 150 Observations Classified\n",
            "72 Out Of 150 Observations Classified\n",
            "80 Out Of 150 Observations Classified\n",
            "88 Out Of 150 Observations Classified\n",
            "96 Out Of 150 Observations Classified\n",
            "104 Out Of 150 Observations Classified\n",
            "112 Out Of 150 Observations Classified\n",
            "120 Out Of 150 Observations Classified\n",
            "128 Out Of 150 Observations Classified\n",
            "136 Out Of 150 Observations Classified\n",
            "144 Out Of 150 Observations Classified\n"
          ]
        }
      ],
      "execution_count": 10,
      "metadata": {
        "collapsed": false,
        "outputHidden": false,
        "inputHidden": false
      }
    },
    {
      "cell_type": "code",
      "source": [
        "sum(pred3==Y)/len(Y)"
      ],
      "outputs": [
        {
          "output_type": "execute_result",
          "execution_count": 11,
          "data": {
            "text/plain": [
              "0.97999999999999998"
            ]
          },
          "metadata": {}
        }
      ],
      "execution_count": 11,
      "metadata": {
        "collapsed": false,
        "outputHidden": false,
        "inputHidden": false
      }
    },
    {
      "cell_type": "code",
      "source": [
        "from sklearn.discriminant_analysis import QuadraticDiscriminantAnalysis\n",
        "clf = QuadraticDiscriminantAnalysis()\n",
        "clf.fit(X,Y)\n",
        "pred9 = clf.predict(X)\n",
        "sum(pred9==Y)/len(Y)\n"
      ],
      "outputs": [
        {
          "output_type": "execute_result",
          "execution_count": 12,
          "data": {
            "text/plain": [
              "0.97999999999999998"
            ]
          },
          "metadata": {}
        }
      ],
      "execution_count": 12,
      "metadata": {
        "collapsed": false,
        "outputHidden": false,
        "inputHidden": false
      }
    },
    {
      "cell_type": "code",
      "source": [
        "def save_object(obj, filename):\n",
        "    with open(filename, 'wb') as output:\n",
        "        pickle.dump(obj, output, pickle.HIGHEST_PROTOCOL)\n",
        "\n"
      ],
      "outputs": [],
      "execution_count": 16,
      "metadata": {
        "collapsed": false,
        "outputHidden": false,
        "inputHidden": false
      }
    },
    {
      "cell_type": "code",
      "source": [
        "# sample usage\n",
        "save_object(pred3, 'LDATrained.pkl')"
      ],
      "outputs": [],
      "execution_count": 17,
      "metadata": {
        "collapsed": false,
        "outputHidden": false,
        "inputHidden": false
      }
    },
    {
      "cell_type": "code",
      "source": [],
      "outputs": [],
      "execution_count": null,
      "metadata": {
        "collapsed": false,
        "outputHidden": false,
        "inputHidden": false
      }
    }
  ],
  "metadata": {
    "kernelspec": {
      "name": "python3",
      "language": "python",
      "display_name": "Python 3"
    },
    "kernel_info": {
      "name": "python3"
    },
    "language_info": {
      "name": "python",
      "version": "3.6.2",
      "mimetype": "text/x-python",
      "codemirror_mode": {
        "name": "ipython",
        "version": 3
      },
      "pygments_lexer": "ipython3",
      "nbconvert_exporter": "python",
      "file_extension": ".py"
    },
    "nteract": {
      "version": "0.4.0"
    }
  },
  "nbformat": 4,
  "nbformat_minor": 4
}