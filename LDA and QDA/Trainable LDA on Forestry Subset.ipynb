{
  "cells": [
    {
      "cell_type": "code",
      "source": [
        "import numpy as np\n",
        "import pandas as pd\n",
        "import os\n",
        "import sys\n",
        "import scipy\n",
        "from scipy.linalg import logm\n",
        "import math\n",
        "import time\n",
        "import matplotlib.pyplot as plt\n",
        "import pickle\n",
        "%matplotlib inline"
      ],
      "outputs": [],
      "execution_count": 1,
      "metadata": {
        "collapsed": false,
        "outputHidden": false,
        "inputHidden": false
      }
    },
    {
      "cell_type": "code",
      "source": [
        "os.chdir(\"C:\\\\Users\\\\MoeAn\\\\Documents\\\\GitHub\\\\LinearDiscriminantAnalysis\")"
      ],
      "outputs": [],
      "execution_count": 2,
      "metadata": {
        "collapsed": false,
        "outputHidden": false,
        "inputHidden": false
      }
    },
    {
      "cell_type": "code",
      "source": [
        "forest = pd.read_csv(\"train.csv\")\n",
        "forest=forest.dropna()\n",
        "X = forest.drop([\"Cover_Type\"],axis=1)\n",
        "Y= forest[\"Cover_Type\"]"
      ],
      "outputs": [],
      "execution_count": 3,
      "metadata": {
        "collapsed": false,
        "outputHidden": false,
        "inputHidden": false
      }
    },
    {
      "cell_type": "code",
      "source": [
        "class ldaClassifier:\n",
        "    import numpy as np\n",
        "    import pandas as pd\n",
        "    import scipy\n",
        "    import math\n",
        "    import time\n",
        "            \n",
        "    def __init__(self,x,y):      \n",
        "        self.X=x\n",
        "        self.Y=y\n",
        "        self.x = self.X.reset_index(drop = True)\n",
        "        self.y = self.Y.reset_index(drop = True)\n",
        "        self.universalCovMatrixInverse = None\n",
        "        self.muVectors = []\n",
        "        self.muTransposeVectors = []\n",
        "        self.piVector =[]\n",
        "   \n",
        "\n",
        "        print(\"Checking for dependencies....\")\n",
        "        try:\n",
        "            import numpy as np\n",
        "            import pandas as pd\n",
        "            import scipy\n",
        "            import math\n",
        "            import time\n",
        "            print(\"Dependencies Loaded\")\n",
        "        \n",
        "        except:\n",
        "            print(\"Missing Dependencies!\")\n",
        "            print(\"All of the following packages must be installed:\")\n",
        "            print(\"pandas as pd ,numpy as np , scipy, math , time\")\n",
        "    \n",
        "    def setX(self,x):\n",
        "        self.X=x\n",
        "        \n",
        "    def setY(self,Y):\n",
        "        self.Y=Y\n",
        "        \n",
        "    def getCovMatrix(self,x):\n",
        "        sigma = x.cov()\n",
        "        return sigma\n",
        "    \n",
        "    def getPiK(self,k,classColumn):\n",
        "        matchingRowsCount = sum(classColumn==k)\n",
        "        return matchingRowsCount/len(classColumn)\n",
        "      \n",
        "    def getVectorMu(self,x,y,k):\n",
        "        x = x.reset_index(drop = True)\n",
        "        y = y.reset_index(drop = True)\n",
        "        \n",
        "        classColumnName = y.name\n",
        "        \n",
        "        fullData = pd.concat([x,y],axis=1)\n",
        "   \n",
        "        vectorOfMeans = []\n",
        "        for column in x :\n",
        "            rowsThatMatchK = fullData.loc[fullData[classColumnName]==k]\n",
        "            ourColumnInRowsThatMatchK = rowsThatMatchK[column]\n",
        "            vectorOfMeans.append(ourColumnInRowsThatMatchK.mean())\n",
        "        return np.transpose(np.asarray(vectorOfMeans))\n",
        "\n",
        "    def getDeltaK(self,row,k,X,Y,sigmaInverse,mu,muTranspose,pi):\n",
        "           \n",
        "        Delta = np.transpose(row).dot(sigmaInverse).dot(mu)-\\\n",
        "        0.5*muTranspose.dot(sigmaInverse).dot(muTranspose)+math.log(pi)\n",
        "        return Delta\n",
        "    \n",
        "    def trainLDA(self):\n",
        "        print(\"Attempting to load dependencies..\")\n",
        "        try:\n",
        "            import numpy as np\n",
        "            import pandas as pd\n",
        "            import scipy\n",
        "            import math\n",
        "            import time\n",
        "        \n",
        "        except:\n",
        "            print(\"Missing Dependencies!\")\n",
        "            print(\"All of the following packages must be installed:\")\n",
        "            print(\"pandas as pd ,numpy as np , scipy, math , time\")\n",
        "        \n",
        "        print(\"Dependencies Loaded\")\n",
        "        print(\"Initializing Classifier...\")\n",
        "        x = self.x\n",
        "        y = self.y\n",
        "        \n",
        "        classes = y.unique()\n",
        "        print(\"Generating Inverted Covariance Matrix..\")\n",
        "        self.universalCovMatrixInverse = np.linalg.pinv(self.getCovMatrix(x))\n",
        "        print(\"Sigma Generated\")\n",
        "#         predictions = []\n",
        "#         classes = y.unique()\n",
        "        \n",
        "        print(\"Calculating Class-Specific Mean Vectors..\")\n",
        "        self.muVectors = []\n",
        "        self.muTransposeVectors = []\n",
        "        for currentClass in classes:\n",
        "            thismu = self.getVectorMu(x,y,currentClass)\n",
        "            thisTransposeMu = np.transpose(thismu)\n",
        "            print(\"Mu for class \"+str(currentClass)+\" is \"+str(thismu))\n",
        "            self.muVectors.append(thismu)\n",
        "            self.muTransposeVectors.append(thisTransposeMu)\n",
        "        \n",
        "        \n",
        "        print(\"Calculating pi proportions....\")\n",
        "        self.piVector =[]\n",
        "        for currentClass in classes:\n",
        "            thispi = self.getPiK(currentClass,self.Y)\n",
        "            print(\"Pi for class \"+str(currentClass)+\" is \"+str(thispi))\n",
        "            self.piVector.append(thispi)    \n",
        "    \n",
        "    \n",
        "    def predictLDA(self):\n",
        "        \n",
        "        x = self.x\n",
        "        y = self.y \n",
        "        print(\"Classifying...\")\n",
        "        \n",
        "        predictions = []\n",
        "        classes = y.unique()\n",
        "        rowCounter = 0\n",
        "        \n",
        "        for row in range(len(x)):\n",
        "            notificationInterval =int(round(len(x)/10)) \n",
        "            if row % notificationInterval == 0:\n",
        "                print(str(row)+\" Out Of \"+str(len(x))+\" Observations Classified\" )\n",
        "            thisx = np.asarray(x.iloc[row])\n",
        "            deltasForThisX = []\n",
        "            deltaCounter = 0\n",
        "            for delta in classes:                \n",
        "                deltasForThisX.append(self.getDeltaK(x.iloc[row],delta,x,y,\n",
        "                                                     self.universalCovMatrixInverse,\n",
        "                                                     self.muVectors[deltaCounter],\n",
        "                                                     self.muTransposeVectors[deltaCounter],\n",
        "                                                     self.piVector[deltaCounter]\n",
        "                                                    ))\n",
        "                deltaCounter=deltaCounter+1\n",
        "                \n",
        "            predictions.append(classes[np.argmax(deltasForThisX)])\n",
        "            rowCounter=rowCounter+1\n",
        "            \n",
        "        return predictions\n",
        "    \n",
        "    def getUniqueClasses(self):\n",
        "        uniqclasses = [str(i) for i in self.Y.unique]\n",
        "        return uniqclasses"
      ],
      "outputs": [],
      "execution_count": 4,
      "metadata": {
        "collapsed": false,
        "outputHidden": false,
        "inputHidden": false
      }
    },
    {
      "cell_type": "code",
      "source": [
        "testlda = ldaClassifier(X,Y)"
      ],
      "outputs": [
        {
          "output_type": "stream",
          "name": "stdout",
          "text": [
            "Checking for dependencies....\n",
            "Dependencies Loaded\n"
          ]
        }
      ],
      "execution_count": 5,
      "metadata": {
        "collapsed": false,
        "outputHidden": false,
        "inputHidden": false
      }
    },
    {
      "cell_type": "code",
      "source": [
        "testlda.trainLDA()"
      ],
      "outputs": [
        {
          "output_type": "stream",
          "name": "stdout",
          "text": [
            "Attempting to load dependencies..\n",
            "Dependencies Loaded\n",
            "Initializing Classifier...\n",
            "Generating Inverted Covariance Matrix..\n",
            "Sigma Generated\n",
            "Calculating Class-Specific Mean Vectors..\n",
            "Mu for class 5 is [  6.48680046e+03   2.78680139e+03   1.37992130e+02   1.67245370e+01\n",
            "   2.08873148e+02   5.08712963e+01   1.32931852e+03   2.23368981e+02\n",
            "   2.18317130e+02   1.21392593e+02   1.53038889e+03   3.96296296e-01\n",
            "   0.00000000e+00   6.03703704e-01   0.00000000e+00   0.00000000e+00\n",
            "   2.82407407e-02   0.00000000e+00   5.97222222e-02   0.00000000e+00\n",
            "   0.00000000e+00   0.00000000e+00   0.00000000e+00   0.00000000e+00\n",
            "   2.96296296e-02   7.12962963e-02   0.00000000e+00   1.41203704e-01\n",
            "   0.00000000e+00   0.00000000e+00   4.16666667e-03   6.06481481e-02\n",
            "   2.03703704e-02   8.33333333e-03   2.77777778e-03   0.00000000e+00\n",
            "   0.00000000e+00   7.26851852e-02   5.09259259e-03   0.00000000e+00\n",
            "   1.29629630e-02   0.00000000e+00   1.38888889e-03   1.17592593e-01\n",
            "   2.22222222e-01   4.02777778e-02   4.62962963e-02   5.32407407e-02\n",
            "   1.85185185e-03   0.00000000e+00   0.00000000e+00   0.00000000e+00\n",
            "   0.00000000e+00   0.00000000e+00   0.00000000e+00]\n",
            "Mu for class 2 is [  6.31269676e+03   2.92254028e+03   1.51097222e+02   1.34236111e+01\n",
            "   2.87728704e+02   4.73379630e+01   2.42579167e+03   2.14044444e+02\n",
            "   2.25369907e+02   1.42950926e+02   2.15527731e+03   5.25000000e-01\n",
            "   3.05555556e-02   4.35185185e-01   9.25925926e-03   0.00000000e+00\n",
            "   1.38888889e-03   5.55555556e-03   9.25925926e-03   0.00000000e+00\n",
            "   3.24074074e-03   0.00000000e+00   4.62962963e-04   4.16666667e-03\n",
            "   3.75000000e-02   3.10185185e-02   9.39814815e-02   3.88888889e-02\n",
            "   0.00000000e+00   0.00000000e+00   6.48148148e-03   3.24074074e-03\n",
            "   7.40740741e-03   6.01851852e-03   2.54629630e-02   0.00000000e+00\n",
            "   2.50000000e-02   6.89814815e-02   3.33333333e-02   4.62962963e-04\n",
            "   8.79629630e-03   2.31481481e-03   2.77777778e-03   2.56481481e-01\n",
            "   6.66666667e-02   4.49074074e-02   1.18055556e-01   8.51851852e-02\n",
            "   5.55555556e-03   4.62962963e-04   9.25925926e-04   0.00000000e+00\n",
            "   3.24074074e-03   1.38888889e-03   1.38888889e-03]\n",
            "Mu for class 1 is [  7.99607778e+03   3.12802593e+03   1.59463426e+02   1.31129630e+01\n",
            "   2.71507407e+02   4.12814815e+01   2.57971574e+03   2.11690278e+02\n",
            "   2.23248611e+02   1.44065741e+02   1.99441296e+03   4.91666667e-01\n",
            "   8.37962963e-02   4.24537037e-01   0.00000000e+00   0.00000000e+00\n",
            "   0.00000000e+00   0.00000000e+00   2.31481481e-03   0.00000000e+00\n",
            "   0.00000000e+00   0.00000000e+00   0.00000000e+00   4.62962963e-04\n",
            "   4.16666667e-03   2.31481481e-03   1.11111111e-02   7.87037037e-03\n",
            "   0.00000000e+00   0.00000000e+00   4.16666667e-03   9.25925926e-04\n",
            "   0.00000000e+00   6.94444444e-03   1.89814815e-02   5.55555556e-03\n",
            "   1.27314815e-01   1.74074074e-01   5.92592593e-02   0.00000000e+00\n",
            "   3.24074074e-03   3.24074074e-03   0.00000000e+00   1.88425926e-01\n",
            "   3.75000000e-02   5.27777778e-02   1.06481481e-01   8.51851852e-02\n",
            "   0.00000000e+00   1.38888889e-03   0.00000000e+00   0.00000000e+00\n",
            "   3.70370370e-02   3.65740741e-02   2.26851852e-02]\n",
            "Mu for class 7 is [  9.58449676e+03   3.36276991e+03   1.55794444e+02   1.41666667e+01\n",
            "   3.46904630e+02   6.89458333e+01   2.71365972e+03   2.16639815e+02\n",
            "   2.22412037e+02   1.36193981e+02   2.06284722e+03   2.52314815e-01\n",
            "   1.16666667e-01   6.31018519e-01   0.00000000e+00   0.00000000e+00\n",
            "   0.00000000e+00   0.00000000e+00   3.24074074e-03   0.00000000e+00\n",
            "   0.00000000e+00   0.00000000e+00   0.00000000e+00   0.00000000e+00\n",
            "   0.00000000e+00   0.00000000e+00   0.00000000e+00   0.00000000e+00\n",
            "   0.00000000e+00   0.00000000e+00   0.00000000e+00   0.00000000e+00\n",
            "   0.00000000e+00   0.00000000e+00   0.00000000e+00   1.85185185e-03\n",
            "   7.40740741e-03   3.33333333e-02   1.43518519e-02   0.00000000e+00\n",
            "   0.00000000e+00   1.38888889e-03   0.00000000e+00   3.51851852e-02\n",
            "   9.25925926e-03   1.25000000e-02   3.24074074e-02   3.10185185e-02\n",
            "   1.85185185e-03   4.53703704e-02   3.70370370e-03   1.57407407e-02\n",
            "   2.96759259e-01   2.66203704e-01   1.88425926e-01]\n",
            "Mu for class 3 is [  8.12753750e+03   2.39842315e+03   1.73672685e+02   2.06287037e+01\n",
            "   2.10723148e+02   6.40819444e+01   9.69595833e+02   2.01655556e+02\n",
            "   2.16561111e+02   1.41549537e+02   9.16909722e+02   0.00000000e+00\n",
            "   0.00000000e+00   3.99537037e-01   6.00462963e-01   5.60185185e-02\n",
            "   1.31018519e-01   6.15740741e-02   2.13888889e-01   2.54629630e-02\n",
            "   1.14814815e-01   0.00000000e+00   0.00000000e+00   0.00000000e+00\n",
            "   3.31944444e-01   4.12037037e-02   0.00000000e+00   1.85185185e-03\n",
            "   1.85185185e-03   0.00000000e+00   2.31481481e-03   1.57407407e-02\n",
            "   0.00000000e+00   0.00000000e+00   0.00000000e+00   0.00000000e+00\n",
            "   0.00000000e+00   0.00000000e+00   0.00000000e+00   0.00000000e+00\n",
            "   0.00000000e+00   0.00000000e+00   0.00000000e+00   0.00000000e+00\n",
            "   0.00000000e+00   0.00000000e+00   2.31481481e-03   0.00000000e+00\n",
            "   0.00000000e+00   0.00000000e+00   0.00000000e+00   0.00000000e+00\n",
            "   0.00000000e+00   0.00000000e+00   0.00000000e+00]\n",
            "Mu for class 6 is [  8.06130509e+03   2.42327685e+03   1.80617130e+02   1.89861111e+01\n",
            "   1.60095370e+02   4.48736111e+01   1.06498056e+03   1.93562963e+02\n",
            "   2.09960648e+02   1.47682407e+02   1.05765417e+03   0.00000000e+00\n",
            "   0.00000000e+00   4.45370370e-01   5.54629630e-01   4.39814815e-02\n",
            "   8.42592593e-02   8.33333333e-03   4.02777778e-02   3.28703704e-02\n",
            "   6.99074074e-02   0.00000000e+00   0.00000000e+00   0.00000000e+00\n",
            "   5.09722222e-01   3.10185185e-02   0.00000000e+00   3.05555556e-02\n",
            "   1.71296296e-02   0.00000000e+00   1.71296296e-02   4.07407407e-02\n",
            "   0.00000000e+00   0.00000000e+00   1.71296296e-02   0.00000000e+00\n",
            "   0.00000000e+00   1.38888889e-03   6.94444444e-03   0.00000000e+00\n",
            "   0.00000000e+00   0.00000000e+00   0.00000000e+00   0.00000000e+00\n",
            "   0.00000000e+00   3.24074074e-03   1.38888889e-02   3.05555556e-02\n",
            "   9.25925926e-04   0.00000000e+00   0.00000000e+00   0.00000000e+00\n",
            "   0.00000000e+00   0.00000000e+00   0.00000000e+00]\n",
            "Mu for class 4 is [  6.35458565e+03   2.22342037e+03   1.38099537e+02   1.84685185e+01\n",
            "   1.04537500e+02   4.01435185e+01   9.15100463e+02   2.27968056e+02\n",
            "   2.16889815e+02   1.11808796e+02   8.60540741e+02   0.00000000e+00\n",
            "   0.00000000e+00   0.00000000e+00   1.00000000e+00   6.43518519e-02\n",
            "   4.35185185e-02   3.69907407e-01   6.15740741e-02   1.80555556e-02\n",
            "   1.12962963e-01   0.00000000e+00   0.00000000e+00   0.00000000e+00\n",
            "   7.87037037e-02   1.11111111e-02   0.00000000e+00   0.00000000e+00\n",
            "   5.92592593e-02   0.00000000e+00   1.85185185e-02   1.62037037e-01\n",
            "   0.00000000e+00   0.00000000e+00   0.00000000e+00   0.00000000e+00\n",
            "   0.00000000e+00   0.00000000e+00   0.00000000e+00   0.00000000e+00\n",
            "   0.00000000e+00   0.00000000e+00   0.00000000e+00   0.00000000e+00\n",
            "   0.00000000e+00   0.00000000e+00   0.00000000e+00   0.00000000e+00\n",
            "   0.00000000e+00   0.00000000e+00   0.00000000e+00   0.00000000e+00\n",
            "   0.00000000e+00   0.00000000e+00   0.00000000e+00]\n",
            "Calculating pi proportions....\n",
            "Pi for class 5 is 0.142857142857\n",
            "Pi for class 2 is 0.142857142857\n",
            "Pi for class 1 is 0.142857142857\n",
            "Pi for class 7 is 0.142857142857\n",
            "Pi for class 3 is 0.142857142857\n",
            "Pi for class 6 is 0.142857142857\n",
            "Pi for class 4 is 0.142857142857\n"
          ]
        }
      ],
      "execution_count": 6,
      "metadata": {
        "collapsed": false,
        "outputHidden": false,
        "inputHidden": false
      }
    },
    {
      "cell_type": "code",
      "source": [
        "pred3 = testlda.predictLDA()"
      ],
      "outputs": [
        {
          "output_type": "stream",
          "name": "stdout",
          "text": [
            "Classifying...\n",
            "0 Out Of 15120 Observations Classified\n",
            "1512 Out Of 15120 Observations Classified\n",
            "3024 Out Of 15120 Observations Classified\n",
            "4536 Out Of 15120 Observations Classified\n",
            "6048 Out Of 15120 Observations Classified\n",
            "7560 Out Of 15120 Observations Classified\n",
            "9072 Out Of 15120 Observations Classified\n",
            "10584 Out Of 15120 Observations Classified\n",
            "12096 Out Of 15120 Observations Classified\n",
            "13608 Out Of 15120 Observations Classified\n"
          ]
        }
      ],
      "execution_count": 7,
      "metadata": {
        "collapsed": false,
        "outputHidden": false,
        "inputHidden": false
      }
    },
    {
      "cell_type": "code",
      "source": [
        "sum(pred3==Y)/len(Y)"
      ],
      "outputs": [
        {
          "output_type": "execute_result",
          "execution_count": 11,
          "data": {
            "text/plain": [
              "0.62936507936507935"
            ]
          },
          "metadata": {}
        }
      ],
      "execution_count": 11,
      "metadata": {
        "collapsed": false,
        "outputHidden": false,
        "inputHidden": false
      }
    },
    {
      "cell_type": "code",
      "source": [
        "from sklearn.discriminant_analysis import LinearDiscriminantAnalysis\n",
        "clf = LinearDiscriminantAnalysis()\n",
        "clf.fit(X,Y)\n",
        "pred9 = clf.predict(X)\n",
        "sum(pred9==Y)/len(Y)"
      ],
      "outputs": [
        {
          "output_type": "stream",
          "name": "stderr",
          "text": [
            "C:\\ProgramData\\Anaconda3\\lib\\site-packages\\sklearn\\discriminant_analysis.py:442: UserWarning: The priors do not sum to 1. Renormalizing\n",
            "  UserWarning)\n",
            "C:\\ProgramData\\Anaconda3\\lib\\site-packages\\sklearn\\discriminant_analysis.py:388: UserWarning: Variables are collinear.\n",
            "  warnings.warn(\"Variables are collinear.\")\n"
          ]
        },
        {
          "output_type": "execute_result",
          "execution_count": 12,
          "data": {
            "text/plain": [
              "0.65105820105820111"
            ]
          },
          "metadata": {}
        }
      ],
      "execution_count": 12,
      "metadata": {
        "collapsed": false,
        "outputHidden": false,
        "inputHidden": false
      }
    },
    {
      "cell_type": "code",
      "source": [
        "def save_object(obj, filename):\n",
        "    with open(filename, 'wb') as output:\n",
        "        pickle.dump(obj, output, pickle.HIGHEST_PROTOCOL)\n",
        "\n"
      ],
      "outputs": [],
      "execution_count": 13,
      "metadata": {
        "collapsed": false,
        "outputHidden": false,
        "inputHidden": false
      }
    },
    {
      "cell_type": "code",
      "source": [
        "# sample usage\n",
        "save_object(testlda, 'LDATrained.pkl')"
      ],
      "outputs": [],
      "execution_count": 15,
      "metadata": {
        "collapsed": false,
        "outputHidden": false,
        "inputHidden": false
      }
    },
    {
      "cell_type": "code",
      "source": [],
      "outputs": [],
      "execution_count": null,
      "metadata": {
        "collapsed": false,
        "outputHidden": false,
        "inputHidden": false
      }
    }
  ],
  "metadata": {
    "kernelspec": {
      "name": "python3",
      "language": "python",
      "display_name": "Python 3"
    },
    "kernel_info": {
      "name": "python3"
    },
    "language_info": {
      "name": "python",
      "version": "3.6.2",
      "mimetype": "text/x-python",
      "codemirror_mode": {
        "name": "ipython",
        "version": 3
      },
      "pygments_lexer": "ipython3",
      "nbconvert_exporter": "python",
      "file_extension": ".py"
    },
    "nteract": {
      "version": "0.4.0"
    }
  },
  "nbformat": 4,
  "nbformat_minor": 4
}